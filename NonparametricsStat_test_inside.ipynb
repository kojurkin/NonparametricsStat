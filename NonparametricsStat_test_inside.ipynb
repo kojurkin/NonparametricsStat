{
  "nbformat": 4,
  "nbformat_minor": 0,
  "metadata": {
    "colab": {
      "provenance": [],
      "authorship_tag": "ABX9TyPrKajPM2WYCNc9tfvMZ1cq",
      "include_colab_link": true
    },
    "kernelspec": {
      "name": "python3",
      "display_name": "Python 3"
    },
    "language_info": {
      "name": "python"
    }
  },
  "cells": [
    {
      "cell_type": "markdown",
      "metadata": {
        "id": "view-in-github",
        "colab_type": "text"
      },
      "source": [
        "<a href=\"https://colab.research.google.com/github/kojurkin/NonparametricsStat/blob/main/NonparametricsStat_test_inside.ipynb\" target=\"_parent\"><img src=\"https://colab.research.google.com/assets/colab-badge.svg\" alt=\"Open In Colab\"/></a>"
      ]
    },
    {
      "cell_type": "code",
      "source": [
        "import numpy as np\n",
        "from scipy.special import gamma, gammaln\n",
        "from scipy.integrate import quad"
      ],
      "metadata": {
        "id": "ALw_mJJdTk4x"
      },
      "execution_count": null,
      "outputs": []
    },
    {
      "cell_type": "code",
      "execution_count": null,
      "metadata": {
        "id": "B3VhwgXNTXoF"
      },
      "outputs": [],
      "source": [
        "def empirical_cdf(x, sample):\n",
        "    n = len(sample)\n",
        "    return np.sum(sample <= x) / n"
      ]
    },
    {
      "cell_type": "code",
      "source": [
        "def bessel_mod(v, z, k_max=100, tolerance=1e-6):\n",
        "    total_sum = 0.0\n",
        "    z_half = z / 2.0\n",
        "    for k in range(k_max):\n",
        "        log_term = (v + 2 * k) * np.log(abs(z / 2.0)) - gammaln(k + 1) - gammaln(k + v + 1)\n",
        "        term = np.exp(log_term)\n",
        "        total_sum += term\n",
        "        if abs(term) < tolerance:\n",
        "            break\n",
        "    return total_sum"
      ],
      "metadata": {
        "id": "LHgZmw8WTq6P"
      },
      "execution_count": null,
      "outputs": []
    },
    {
      "cell_type": "code",
      "source": [
        "def integrand(y, t, j):\n",
        "  return np.exp((t/(8*(y**2 + 1))) - (((4*j+1)**2 * np.pi**2 * y**2)/(8*t)))"
      ],
      "metadata": {
        "id": "CLNxlWHbTzx-"
      },
      "execution_count": null,
      "outputs": []
    },
    {
      "cell_type": "code",
      "source": [
        "def compute_ranks(sample1, sample2):\n",
        "    if len(sample1) == 0 or len(sample2) == 0:\n",
        "        raise ValueError(\"Выборки должны быть не пустыми.\")\n",
        "    # (элемент, выборка, исходный_индекс)\n",
        "    combined = [(x, 0, i) for i, x in enumerate(sample1)] + [(x, 1, i) for i, x in enumerate(sample2)]\n",
        "    sorted_data = sorted(combined, key=lambda x: x[0])\n",
        "    n = len(combined)\n",
        "    ranks = [0] * n\n",
        "    i = 0\n",
        "    while i < n:\n",
        "        start = i\n",
        "        current_value = sorted_data[i][0]\n",
        "        count = 0\n",
        "        while i < n and sorted_data[i][0] == current_value:\n",
        "            i += 1\n",
        "            count += 1\n",
        "        avg_rank = (start + 1 + start + count) / 2\n",
        "        for j in range(start, i):\n",
        "            ranks[sorted_data[j][2] + (sorted_data[j][1] * len(sample1))] = avg_rank\n",
        "    ranks1 = []\n",
        "    ranks2 = []\n",
        "    for item in sorted(combined, key=lambda x: x[2]):\n",
        "        rank_index = item[2] + (item[1] * len(sample1))\n",
        "        if item[1] == 0:\n",
        "            ranks1.append(ranks[rank_index])\n",
        "        else:\n",
        "            ranks2.append(ranks[rank_index])\n",
        "    return np.array(ranks1), np.array(ranks2)"
      ],
      "metadata": {
        "id": "0qxXXLRPTxnU"
      },
      "execution_count": null,
      "outputs": []
    },
    {
      "cell_type": "code",
      "source": [
        "def a1function(t, j_max=1000, tolerance=1e-16, round_to_5 = True):\n",
        "    if t <= 0:\n",
        "        return 0.0\n",
        "    total_sum = 0.0\n",
        "    sqrt_2t = np.sqrt(2 * t)\n",
        "\n",
        "    for j in range(j_max):\n",
        "        term1 = gamma(j + 0.5) * np.sqrt(4 * j + 1)\n",
        "        term2 = gamma(0.5) * gamma(j + 1)\n",
        "        exponent = np.exp(-(4 * j + 1)**2 / (16 * t))\n",
        "        arg = (4 * j + 1)**2 / (16 * t)\n",
        "        bessel_diff = bessel_mod(-0.25, arg, k_max=173, tolerance=tolerance) - bessel_mod(0.25, arg, k_max=173, tolerance=tolerance)\n",
        "\n",
        "        term = (term1 / term2) * exponent * bessel_diff\n",
        "\n",
        "        total_sum += term\n",
        "\n",
        "        if abs(term) < tolerance:\n",
        "            break\n",
        "    result = total_sum / np.sqrt(2 * t)\n",
        "\n",
        "    if round_to_5:\n",
        "        result = round(result, 5)\n",
        "    return result"
      ],
      "metadata": {
        "id": "g9Kj3qyzTsfl"
      },
      "execution_count": null,
      "outputs": []
    },
    {
      "cell_type": "code",
      "source": [
        "def a2function(t, j_max=1000, tolerance=1e-16, round_to_5 = True):\n",
        "    if t <= 0:\n",
        "        return 0.0\n",
        "    total_sum = 0.0\n",
        "\n",
        "    for j in range(j_max):\n",
        "        term1 = gamma(j + 0.5) * (4 * j + 1)\n",
        "        term2 = gamma(0.5) * gamma(j + 1)\n",
        "        exponent = np.exp(-1 * ((4 * j + 1)**2 * np.pi**2) / (8 * t))\n",
        "        integral_exponent, tolerance_message = quad(integrand, 0, np.inf, args=(t, j))\n",
        "\n",
        "        term = (-1)**j * (term1 / term2) * exponent * integral_exponent\n",
        "\n",
        "        total_sum += term\n",
        "\n",
        "        if abs(term) < tolerance:\n",
        "            break\n",
        "\n",
        "    result = total_sum * (np.sqrt(2 * np.pi) / t)\n",
        "    if round_to_5:\n",
        "        result = round(result, 5)\n",
        "#    print(tolerance_message)\n",
        "    return result"
      ],
      "metadata": {
        "id": "IL9D7MXWTuvE"
      },
      "execution_count": null,
      "outputs": []
    },
    {
      "cell_type": "code",
      "source": [
        "def w_squared_test(sample1, sample2):\n",
        "    if len(sample1) == 0 or len(sample2) == 0:\n",
        "        raise ValueError(\"Выборки должны быть не пустыми.\")\n",
        "    n = len(sample1)\n",
        "    sample2_sorted = np.sort(sample2)\n",
        "    sample2_cdf = np.vectorize(lambda x: empirical_cdf(x, sample2))\n",
        "    U = sample2_cdf(sample1)\n",
        "    U_sorted = np.sort(U)\n",
        "    sum_term = 0\n",
        "    for i in range(n):\n",
        "        diff = U_sorted[i] - (2 * (i + 1) - 1) / (2 * n)\n",
        "        sum_term += diff ** 2\n",
        "    w_squared = ((1 / (12 * n)) + sum_term)\n",
        "    p_value = 1 - a1function(w_squared)\n",
        "    return w_squared, p_value"
      ],
      "metadata": {
        "id": "f-pVWrkNT22L"
      },
      "execution_count": null,
      "outputs": []
    },
    {
      "cell_type": "code",
      "source": [
        "def lehmann_rosenblatt_test(sample1, sample2):\n",
        "    if len(sample1) == 0 or len(sample2) == 0:\n",
        "        raise ValueError(\"Выборки должны быть не пустыми.\")\n",
        "    m, n = len(sample1), len(sample2)\n",
        "    if m > n:\n",
        "        tmp = sample2\n",
        "        sample2 = sample1\n",
        "        sample1 = tmp\n",
        "        m, n = len(sample1), len(sample2)\n",
        "    ranks1, ranks2 = compute_ranks(sample1, sample2)\n",
        "    sum1 = 0\n",
        "    sum2 = 0\n",
        "    ranks1 = sorted(ranks1)\n",
        "    ranks2 = sorted(ranks2)\n",
        "    for i in range(len(ranks1)):\n",
        "      sum1 += (ranks1[i] - (i + 1))**2\n",
        "    for i in range(len(ranks2)):\n",
        "      sum2 += (ranks2[i] - (i + 1))**2\n",
        "    T = (n * sum1 + m * sum2) / (m * n * (m + n)) - ((4 * m * n - 1) / (6 * (m + n)))\n",
        "    p_value = 1 - a1function(T)\n",
        "    return T, p_value"
      ],
      "metadata": {
        "id": "45mrKLHiT4-i"
      },
      "execution_count": null,
      "outputs": []
    },
    {
      "cell_type": "code",
      "source": [
        "def anderson_darling_test(sample1, sample2):\n",
        "    if len(sample1) == 0 or len(sample2) == 0:\n",
        "        raise ValueError(\"Выборки должны быть не пустыми.\")\n",
        "    m, n = len(sample1), len(sample2)\n",
        "    if m > n:\n",
        "      tmp = sample2\n",
        "      sample2 = sample1\n",
        "      sample1 = tmp\n",
        "\n",
        "    combined = np.concatenate([sample1, sample2])\n",
        "    sorted_combined = np.sort(combined)\n",
        "\n",
        "    ranks1, ranks2 = compute_ranks(sample1, sample2)\n",
        "\n",
        "    M = []\n",
        "    for j in range(m + n):\n",
        "        value = sorted_combined[j]\n",
        "        M_j = sum(1 for x in sample1 if x <= value)\n",
        "        M.append(M_j)\n",
        "    total = 0.0\n",
        "    for i in range(1, m + n):\n",
        "        term = ((M[i-1] * (m + n) - m*i) ** 2) / (i * (m + n - i))\n",
        "        total += term\n",
        "\n",
        "    A = total / (m * n)\n",
        "    p_value = 1 - a2function(A)\n",
        "    return A, p_value"
      ],
      "metadata": {
        "id": "PfP92qc_T6YK"
      },
      "execution_count": null,
      "outputs": []
    },
    {
      "cell_type": "code",
      "execution_count": null,
      "metadata": {
        "id": "ninHZpbQ-jxg"
      },
      "outputs": [],
      "source": [
        "def kolmogorov_smirnov_test(data1, data2):\n",
        "    data1 = np.sort(data1)\n",
        "    data2 = np.sort(data2)\n",
        "    n1 = len(data1)\n",
        "    n2 = len(data2)\n",
        "    data_all = np.concatenate([data1, data2])\n",
        "    cdf1 = np.searchsorted(data1, data_all, side='right') / np.float64(n1)\n",
        "    cdf2 = np.searchsorted(data2, data_all, side='right') / np.float64(n2)\n",
        "    d = np.float64(np.max(np.abs(cdf1 - cdf2)))\n",
        "    return d, np.clip(kolmogorov_distribution(d, n1, n2), 0.0, 1.0),"
      ]
    },
    {
      "cell_type": "code",
      "source": [
        "def kolmogorov_distribution(d, n1, n2):\n",
        "    d = float(d)\n",
        "    n1 = int(n1)\n",
        "    n2 = int(n2)\n",
        "\n",
        "    if n1 <= 10 and n2 <= 10:\n",
        "        m, n = n1, n2\n",
        "        k = int(np.ceil(d * n * m))\n",
        "        if k == 0:\n",
        "            return 1.0\n",
        "        dp = np.zeros((n + 1, m + 1, k + 1), dtype=np.float64)\n",
        "        dp[0, 0, 0] = 1.0\n",
        "        for i in range(n + 1):\n",
        "            for j in range(m + 1):\n",
        "                for t in range(k + 1):\n",
        "                    if dp[i, j, t] == 0:\n",
        "                        continue\n",
        "                    diff = abs(i / np.float64(n) - j / np.float64(m))\n",
        "                    if diff * n * m > t:\n",
        "                        continue\n",
        "                    if i < n:\n",
        "                        dp[i + 1, j, t] += dp[i, j, t] / np.float64(n)\n",
        "                    if j < m:\n",
        "                        dp[i, j + 1, t] += dp[i, j, t] / np.float64(m)\n",
        "        p = 0.0\n",
        "        for t in range(k):\n",
        "            p += dp[n, m, t]\n",
        "        return np.clip(1 - p, 0.0, 1.0)\n",
        "    else:\n",
        "        m, n = sorted([float(n1), float(n2)], reverse=True)\n",
        "        en = m * n / (m + n)\n",
        "        z = d * np.sqrt(en)\n",
        "        z = np.asarray(z, dtype=np.float64)\n",
        "        p = np.zeros_like(z)\n",
        "        mask_non_positive = z <= 0\n",
        "        p[mask_non_positive] = 1.0\n",
        "        mask_inf = np.isinf(z)\n",
        "        p[mask_inf] = 0.0\n",
        "        mask_valid = (~mask_non_positive) & (~mask_inf)\n",
        "        z_valid = z[mask_valid]\n",
        "        if z_valid.size > 0:\n",
        "            mask_small = z_valid < 1.18\n",
        "            if np.any(mask_small):\n",
        "                sqrt_2pi = np.sqrt(2 * np.pi)\n",
        "                z_small = z_valid[mask_small]\n",
        "                p_small_sum = np.zeros_like(z_small)\n",
        "                for k in range(1, 1000):\n",
        "                    term = -(2*k - 1)**2 * np.pi**2 / (8 * z_small**2)\n",
        "                    if np.any(term < -708.3964185322641):\n",
        "                        break\n",
        "                    current = np.where(term == -np.inf, 0.0, np.exp(np.clip(term, -708.3964185322641, 709.782712893384)))\n",
        "                    p_small_sum += current\n",
        "                    if np.all(np.abs(current) < 1e-30):\n",
        "                        break\n",
        "                raw_p_small = 1.0 - sqrt_2pi / z_small * p_small_sum\n",
        "                p_small = np.clip(raw_p_small, 0.0, 1.0)\n",
        "                if z.ndim == 0:\n",
        "                    if mask_small:\n",
        "                        p = p_small\n",
        "                else:\n",
        "                    p[mask_valid & mask_small] = p_small\n",
        "            mask_large = ~mask_small\n",
        "            if np.any(mask_large):\n",
        "                z_large = z_valid[mask_large]\n",
        "                p_large_sum = np.zeros_like(z_large)\n",
        "                for k in range(1, 1000):\n",
        "                    term = -2 * k**2 * z_large**2\n",
        "                    if np.all(term < -708.3964185322641):\n",
        "                        break\n",
        "                    sign = 1.0 if k % 2 == 1 else -1.0\n",
        "                    current = sign * np.where(term == -np.inf, 0.0, np.exp(np.clip(term, -708.3964185322641, 709.782712893384)))\n",
        "                    p_large_sum += current\n",
        "                    if np.all(np.abs(current) < 1e-30):\n",
        "                        break\n",
        "                raw_p_large = 2.0 * p_large_sum\n",
        "                p_large = np.clip(raw_p_large, 0.0, 1.0)\n",
        "                if z.ndim == 0:\n",
        "                    if mask_large:\n",
        "                        p = p_large\n",
        "                else:\n",
        "                    p[mask_valid & mask_large] = p_large\n",
        "        return p.item() if z.ndim == 0 else p"
      ],
      "metadata": {
        "id": "pXtY5muIugqd"
      },
      "execution_count": null,
      "outputs": []
    },
    {
      "cell_type": "markdown",
      "source": [
        "Тестирование"
      ],
      "metadata": {
        "id": "CpIwafo_T4zs"
      }
    },
    {
      "cell_type": "code",
      "source": [
        "import pandas as pd\n",
        "ds0 = pd.read_excel('/content/AD.ds3.xlsx')\n",
        "ds378 = ds0[['v78', 'G']].copy()\n",
        "ds378.columns = ['s78', 'Factor']\n",
        "ds378['Factor'] = ds378['Factor'].astype('category')\n",
        "print(ds378.head(5))\n",
        "sample781 = ds378[ds378['Factor'] == 1]\n",
        "sample782 = ds378[ds378['Factor'] == 2]\n",
        "sample783 = ds378[ds378['Factor'] == 3]\n",
        "sample784 = ds378[ds378['Factor'] == 4]\n",
        "\n",
        "print(sample781)\n",
        "print(sample782)\n",
        "print(sample783)\n",
        "print(sample784)\n"
      ],
      "metadata": {
        "colab": {
          "base_uri": "https://localhost:8080/"
        },
        "id": "HWRFphzUT55T",
        "outputId": "64cb2c30-f304-4945-9db2-c97d8811d86f"
      },
      "execution_count": null,
      "outputs": [
        {
          "output_type": "stream",
          "name": "stdout",
          "text": [
            "         s78 Factor\n",
            "0  17.126126      1\n",
            "1  18.175637      3\n",
            "2  11.518727      3\n",
            "3  11.382667      1\n",
            "4   8.841300      1\n",
            "            s78 Factor\n",
            "0     17.126126      1\n",
            "3     11.382667      1\n",
            "4      8.841300      1\n",
            "5     28.194540      1\n",
            "7     10.210544      1\n",
            "...         ...    ...\n",
            "1391  28.597946      1\n",
            "1392  16.530179      1\n",
            "1396  13.914268      1\n",
            "1397  14.255363      1\n",
            "1398  14.377280      1\n",
            "\n",
            "[350 rows x 2 columns]\n",
            "            s78 Factor\n",
            "8     35.571224      2\n",
            "29     8.464201      2\n",
            "30     8.188931      2\n",
            "31     2.551928      2\n",
            "32    27.362216      2\n",
            "...         ...    ...\n",
            "1380  30.152727      2\n",
            "1384  36.423330      2\n",
            "1388   7.655273      2\n",
            "1393  11.133238      2\n",
            "1394  10.827193      2\n",
            "\n",
            "[350 rows x 2 columns]\n",
            "            s78 Factor\n",
            "1     18.175637      3\n",
            "2     11.518727      3\n",
            "6     22.342715      3\n",
            "11    27.853343      3\n",
            "12    19.330229      3\n",
            "...         ...    ...\n",
            "1383  42.838541      3\n",
            "1389   5.402262      3\n",
            "1390  27.386909      3\n",
            "1395  18.627133      3\n",
            "1399   7.182120      3\n",
            "\n",
            "[350 rows x 2 columns]\n",
            "            s78 Factor\n",
            "166   14.408856      4\n",
            "167   12.346416      4\n",
            "169   20.505844      4\n",
            "172   16.898556      4\n",
            "173   15.366527      4\n",
            "...         ...    ...\n",
            "1222  21.163213      4\n",
            "1224  12.362896      4\n",
            "1225   7.392651      4\n",
            "1231  10.063021      4\n",
            "1234  11.682333      4\n",
            "\n",
            "[350 rows x 2 columns]\n"
          ]
        }
      ]
    },
    {
      "cell_type": "code",
      "source": [
        "sample1 = sample781['s78']\n",
        "sample2 = sample782['s78']\n",
        "sample3 = sample783['s78']\n",
        "sample4 = sample784['s78']\n",
        "my_sample_list = [sample1, sample2, sample3, sample4]\n",
        "from itertools import combinations\n",
        "results = []"
      ],
      "metadata": {
        "id": "OBMbZjaOT6iK"
      },
      "execution_count": null,
      "outputs": []
    },
    {
      "cell_type": "code",
      "source": [
        "from scipy.stats import ks_2samp, anderson_ksamp\n",
        "from scipy import stats\n",
        "import time"
      ],
      "metadata": {
        "id": "GjtZ49yvT-mh"
      },
      "execution_count": null,
      "outputs": []
    },
    {
      "cell_type": "code",
      "source": [
        "print(\"---Андерсона-Дарлинга 1-2---\")\n",
        "start_time = time.time()\n",
        "ad_scipy_stat, ad_scipy_crit, ad_scipy_p = anderson_ksamp([sample1, sample2], method=stats.PermutationMethod())\n",
        "ad_scipy_time = time.time() - start_time\n",
        "print(\"Результаты SciPy: Время \", ad_scipy_time,\" Статистика \", ad_scipy_stat, \" p-value \", ad_scipy_p)\n",
        "\n",
        "start_time = time.time()\n",
        "ad_stat, ad_p = anderson_darling_test(sample1, sample2)\n",
        "ad_time = time.time() - start_time\n",
        "print(\"Мои результаты: Время \", ad_time,\" Статистика \", ad_stat, \" p-value \", ad_p)\n",
        "\n",
        "print(\"---Андерсона-Дарлинга 1-3---\")\n",
        "start_time = time.time()\n",
        "ad_scipy_stat, ad_scipy_crit, ad_scipy_p = anderson_ksamp([sample1, sample3], method=stats.PermutationMethod())\n",
        "ad_scipy_time = time.time() - start_time\n",
        "print(\"Результаты SciPy: Время \", ad_scipy_time,\" Статистика \", ad_scipy_stat, \" p-value \", ad_scipy_p)\n",
        "\n",
        "start_time = time.time()\n",
        "ad_stat, ad_p = anderson_darling_test(sample1, sample3)\n",
        "ad_time = time.time() - start_time\n",
        "print(\"Мои результаты: Время \", ad_time,\" Статистика \", ad_stat, \" p-value \", ad_p)\n",
        "\n",
        "print(\"---Андерсона-Дарлинга 1-4---\")\n",
        "start_time = time.time()\n",
        "ad_scipy_stat, ad_scipy_crit, ad_scipy_p = anderson_ksamp([sample1, sample4], method=stats.PermutationMethod())\n",
        "ad_scipy_time = time.time() - start_time\n",
        "print(\"Результаты SciPy: Время \", ad_scipy_time,\" Статистика \", ad_scipy_stat, \" p-value \", ad_scipy_p)\n",
        "\n",
        "start_time = time.time()\n",
        "ad_stat, ad_p = anderson_darling_test(sample1, sample4)\n",
        "ad_time = time.time() - start_time\n",
        "print(\"Мои результаты: Время \", ad_time,\" Статистика \", ad_stat, \" p-value \", ad_p)\n",
        "\n",
        "print(\"---Андерсона-Дарлинга 2-3---\")\n",
        "start_time = time.time()\n",
        "ad_scipy_stat, ad_scipy_crit, ad_scipy_p = anderson_ksamp([sample2, sample3], method=stats.PermutationMethod())\n",
        "ad_scipy_time = time.time() - start_time\n",
        "print(\"Результаты SciPy: Время \", ad_scipy_time,\" Статистика \", ad_scipy_stat, \" p-value \", ad_scipy_p)\n",
        "\n",
        "start_time = time.time()\n",
        "ad_stat, ad_p = anderson_darling_test(sample2, sample3)\n",
        "ad_time = time.time() - start_time\n",
        "print(\"Мои результаты: Время \", ad_time,\" Статистика \", ad_stat, \" p-value \", ad_p)\n",
        "\n",
        "print(\"---Андерсона-Дарлинга 2-4---\")\n",
        "start_time = time.time()\n",
        "ad_scipy_stat, ad_scipy_crit, ad_scipy_p = anderson_ksamp([sample2, sample4], method=stats.PermutationMethod())\n",
        "ad_scipy_time = time.time() - start_time\n",
        "print(\"Результаты SciPy: Время \", ad_scipy_time,\" Статистика \", ad_scipy_stat, \" p-value \", ad_scipy_p)\n",
        "\n",
        "start_time = time.time()\n",
        "ad_stat, ad_p = anderson_darling_test(sample2, sample4)\n",
        "ad_time = time.time() - start_time\n",
        "print(\"Мои результаты: Время \", ad_time,\" Статистика \", ad_stat, \" p-value \", ad_p)\n",
        "\n",
        "print(\"---Андерсона-Дарлинга 3-4---\")\n",
        "start_time = time.time()\n",
        "ad_scipy_stat, ad_scipy_crit, ad_scipy_p = anderson_ksamp([sample3, sample4], method=stats.PermutationMethod())\n",
        "ad_scipy_time = time.time() - start_time\n",
        "print(\"Результаты SciPy: Время \", ad_scipy_time,\" Статистика \", ad_scipy_stat, \" p-value \", ad_scipy_p)\n",
        "\n",
        "start_time = time.time()\n",
        "ad_stat, ad_p = anderson_darling_test(sample3, sample4)\n",
        "ad_time = time.time() - start_time\n",
        "print(\"Мои результаты: Время \", ad_time,\" Статистика \", ad_stat, \" p-value \", ad_p)"
      ],
      "metadata": {
        "colab": {
          "base_uri": "https://localhost:8080/"
        },
        "id": "VL9ESmXHUDoW",
        "outputId": "87c9f9e7-8408-47a9-d250-3c90417e0380"
      },
      "execution_count": null,
      "outputs": [
        {
          "output_type": "stream",
          "name": "stdout",
          "text": [
            "---Андерсона-Дарлинга 1-2---\n",
            "Результаты SciPy: Время  3.151284694671631  Статистика  -0.5939009471634233  p-value  0.6989\n",
            "Мои результаты: Время  0.03559279441833496  Статистика  0.5491714508044634  p-value  0.6972700000000001\n",
            "---Андерсона-Дарлинга 1-3---\n",
            "Результаты SciPy: Время  5.6431450843811035  Статистика  0.2049604153708288  p-value  0.277\n",
            "Мои результаты: Время  0.10778093338012695  Статистика  1.1591795010732562  p-value  0.28358000000000005\n",
            "---Андерсона-Дарлинга 1-4---\n",
            "Результаты SciPy: Время  2.258624792098999  Статистика  11.82766735984587  p-value  0.0001\n",
            "Мои результаты: Время  0.03600955009460449  Статистика  9.934656085753927  p-value  9.99999999995449e-06\n",
            "---Андерсона-Дарлинга 2-3---\n",
            "Результаты SciPy: Время  2.241257905960083  Статистика  -0.34137344452599894  p-value  0.5265\n",
            "Мои результаты: Время  0.03602790832519531  Статистика  0.740705260814037  p-value  0.52578\n",
            "---Андерсона-Дарлинга 2-4---\n",
            "Результаты SciPy: Время  2.2195279598236084  Статистика  14.339568617004662  p-value  0.0001\n",
            "Мои результаты: Время  0.037973880767822266  Статистика  11.831305828620614  p-value  0.0\n",
            "---Андерсона-Дарлинга 3-4---\n",
            "Результаты SciPy: Время  2.58556866645813  Статистика  12.495729480966432  p-value  0.0001\n",
            "Мои результаты: Время  0.0749979019165039  Статистика  10.434752643353775  p-value  9.99999999995449e-06\n"
          ]
        }
      ]
    },
    {
      "cell_type": "code",
      "source": [
        "print(\"---Лемана-Розенблата 1-2---\")\n",
        "start_time = time.time()\n",
        "lr_stat, lr_p = lehmann_rosenblatt_test(sample1, sample2)\n",
        "lr_time = time.time() - start_time\n",
        "print(\"Мои результаты: Время \", lr_time,\" Статистика \", lr_stat, \" p-value \", lr_p)\n",
        "\n",
        "print(\"---Лемана-Розенблата 1-3---\")\n",
        "start_time = time.time()\n",
        "lr_stat, lr_p = lehmann_rosenblatt_test(sample1, sample3)\n",
        "lr_time = time.time() - start_time\n",
        "print(\"Мои результаты: Время \", lr_time,\" Статистика \", lr_stat, \" p-value \", lr_p)\n",
        "\n",
        "print(\"---Лемана-Розенблата 1-4---\")\n",
        "start_time = time.time()\n",
        "lr_stat, lr_p = lehmann_rosenblatt_test(sample1, sample4)\n",
        "lr_time = time.time() - start_time\n",
        "print(\"Мои результаты: Время \", lr_time,\" Статистика \", lr_stat, \" p-value \", lr_p)\n",
        "\n",
        "print(\"---Лемана-Розенблата 2-3---\")\n",
        "start_time = time.time()\n",
        "lr_stat, lr_p = lehmann_rosenblatt_test(sample2, sample3)\n",
        "lr_time = time.time() - start_time\n",
        "print(\"Мои результаты: Время \", lr_time,\" Статистика \", lr_stat, \" p-value \", lr_p)\n",
        "\n",
        "print(\"---Лемана-Розенблата 2-4---\")\n",
        "start_time = time.time()\n",
        "lr_stat, lr_p = lehmann_rosenblatt_test(sample2, sample4)\n",
        "lr_time = time.time() - start_time\n",
        "print(\"Мои результаты: Время \", lr_time,\" Статистика \", lr_stat, \" p-value \", lr_p)\n",
        "\n",
        "print(\"---Лемана-Розенблата 3-4---\")\n",
        "start_time = time.time()\n",
        "lr_stat, lr_p = lehmann_rosenblatt_test(sample3, sample4)\n",
        "lr_time = time.time() - start_time\n",
        "print(\"Мои результаты: Время \", lr_time,\" Статистика \", lr_stat, \" p-value \", lr_p)"
      ],
      "metadata": {
        "colab": {
          "base_uri": "https://localhost:8080/"
        },
        "id": "5D8oHr-_UEIQ",
        "outputId": "4f8fc163-828e-4b1e-cc70-19ebc431c6f7"
      },
      "execution_count": null,
      "outputs": [
        {
          "output_type": "stream",
          "name": "stdout",
          "text": [
            "---Лемана-Розенблата 1-2---\n",
            "Мои результаты: Время  0.004612922668457031  Статистика  0.0821714285714279  p-value  0.6793899999999999\n",
            "---Лемана-Розенблата 1-3---\n",
            "Мои результаты: Время  0.029995441436767578  Статистика  0.2320326530612249  p-value  0.21331\n",
            "---Лемана-Розенблата 1-4---\n",
            "Мои результаты: Время  0.009383916854858398  Статистика  0.9630265306122539  p-value  0.0030000000000000027\n",
            "---Лемана-Розенблата 2-3---\n",
            "Мои результаты: Время  0.022568464279174805  Статистика  0.11284489795919228  p-value  0.52605\n",
            "---Лемана-Розенблата 2-4---\n",
            "Мои результаты: Время  0.020554780960083008  Статистика  1.1095448979591822  p-value  0.0013699999999999823\n",
            "---Лемана-Розенблата 3-4---\n",
            "Мои результаты: Время  0.005512237548828125  Статистика  0.8962510204081724  p-value  0.0043199999999999905\n"
          ]
        }
      ]
    },
    {
      "cell_type": "code",
      "source": [
        "print(\"---Омега-квадрат 1-2---\")\n",
        "start_time = time.time()\n",
        "lr_stat, lr_p = w_squared_test(sample1, sample2)\n",
        "lr_time = time.time() - start_time\n",
        "print(\"Мои результаты: Время \", lr_time,\" Статистика \", lr_stat, \" p-value \", lr_p)\n",
        "\n",
        "print(\"---Омега-квадрат 1-3---\")\n",
        "start_time = time.time()\n",
        "lr_stat, lr_p = w_squared_test(sample1, sample3)\n",
        "lr_time = time.time() - start_time\n",
        "print(\"Мои результаты: Время \", lr_time,\" Статистика \", lr_stat, \" p-value \", lr_p)\n",
        "\n",
        "print(\"---Омега-квадрат 1-4---\")\n",
        "start_time = time.time()\n",
        "lr_stat, lr_p = w_squared_test(sample1, sample4)\n",
        "lr_time = time.time() - start_time\n",
        "print(\"Мои результаты: Время \", lr_time,\" Статистика \", lr_stat, \" p-value \", lr_p)\n",
        "\n",
        "print(\"---Омега-квадрат 2-3---\")\n",
        "start_time = time.time()\n",
        "lr_stat, lr_p = w_squared_test(sample2, sample3)\n",
        "lr_time = time.time() - start_time\n",
        "print(\"Мои результаты: Время \", lr_time,\" Статистика \", lr_stat, \" p-value \", lr_p)\n",
        "\n",
        "print(\"---Омега-квадрат 2-4---\")\n",
        "start_time = time.time()\n",
        "lr_stat, lr_p = w_squared_test(sample2, sample4)\n",
        "lr_time = time.time() - start_time\n",
        "print(\"Мои результаты: Время \", lr_time,\" Статистика \", lr_stat, \" p-value \", lr_p)\n",
        "\n",
        "print(\"---Омега-квадрат 3-4---\")\n",
        "start_time = time.time()\n",
        "lr_stat, lr_p = w_squared_test(sample3, sample4)\n",
        "lr_time = time.time() - start_time\n",
        "print(\"Мои результаты: Время \", lr_time,\" Статистика \", lr_stat, \" p-value \", lr_p)"
      ],
      "metadata": {
        "colab": {
          "base_uri": "https://localhost:8080/"
        },
        "id": "cc13vVTYUHIW",
        "outputId": "5957c3c7-d6b9-4bba-a120-dd66c74e6679"
      },
      "execution_count": null,
      "outputs": [
        {
          "output_type": "stream",
          "name": "stdout",
          "text": [
            "---Омега-квадрат 1-2---\n",
            "Мои результаты: Время  0.06137895584106445  Статистика  0.16377687074829952  p-value  0.35039\n",
            "---Омега-квадрат 1-3---\n",
            "Мои результаты: Время  0.04601407051086426  Статистика  0.4633523809523799  p-value  0.049409999999999954\n",
            "---Омега-квадрат 1-4---\n",
            "Мои результаты: Время  0.04735898971557617  Статистика  1.9255727891156433  p-value  2.0000000000020002e-05\n",
            "---Омега-квадрат 2-3---\n",
            "Мои результаты: Время  0.047342538833618164  Статистика  0.225131972789116  p-value  0.22363999999999995\n",
            "---Омега-квадрат 2-4---\n",
            "Мои результаты: Время  0.051891326904296875  Статистика  2.218601360544214  p-value  0.0\n",
            "---Омега-квадрат 3-4---\n",
            "Мои результаты: Время  0.041686296463012695  Статистика  1.792021768707485  p-value  4.0000000000040004e-05\n"
          ]
        }
      ]
    },
    {
      "cell_type": "code",
      "source": [
        "print(\"---Колмогорова-Смирнова---\")\n",
        "start_time = time.time()\n",
        "ks_scipy_stat, ks_scipy_p = ks_2samp(sample1, sample2)\n",
        "ks_scipy_time = time.time() - start_time\n",
        "print(\"Результаты SciPy: Время \", ks_scipy_time, \" Статистика \", ks_scipy_stat, \" p-value \", ks_scipy_p)\n",
        "\n",
        "start_time = time.time()\n",
        "ks_stat, ks_p = kolmogorov_smirnov_test(sample1, sample2)\n",
        "ks_time = time.time() - start_time\n",
        "print(\"Мои результаты: Время \", ks_time, \" Статистика \", ks_stat, \" p-value \", ks_p)\n",
        "\n",
        "print(\"---Колмогорова-Смирнова---\")\n",
        "start_time = time.time()\n",
        "ks_scipy_stat, ks_scipy_p = ks_2samp(sample1, sample3)\n",
        "ks_scipy_time = time.time() - start_time\n",
        "print(\"Результаты SciPy: Время \", ks_scipy_time, \" Статистика \", ks_scipy_stat, \" p-value \", ks_scipy_p)\n",
        "\n",
        "start_time = time.time()\n",
        "ks_stat, ks_p = kolmogorov_smirnov_test(sample1, sample3)\n",
        "ks_time = time.time() - start_time\n",
        "print(\"Мои результаты: Время \", ks_time, \" Статистика \", ks_stat, \" p-value \", ks_p)\n",
        "\n",
        "print(\"---Колмогорова-Смирнова---\")\n",
        "start_time = time.time()\n",
        "ks_scipy_stat, ks_scipy_p = ks_2samp(sample1, sample4)\n",
        "ks_scipy_time = time.time() - start_time\n",
        "print(\"Результаты SciPy: Время \", ks_scipy_time, \" Статистика \", ks_scipy_stat, \" p-value \", ks_scipy_p)\n",
        "\n",
        "start_time = time.time()\n",
        "ks_stat, ks_p = kolmogorov_smirnov_test(sample1, sample4)\n",
        "ks_time = time.time() - start_time\n",
        "print(\"Мои результаты: Время \", ks_time, \" Статистика \", ks_stat, \" p-value \", ks_p)\n",
        "\n",
        "print(\"---Колмогорова-Смирнова---\")\n",
        "start_time = time.time()\n",
        "ks_scipy_stat, ks_scipy_p = ks_2samp(sample2, sample3)\n",
        "ks_scipy_time = time.time() - start_time\n",
        "print(\"Результаты SciPy: Время \", ks_scipy_time, \" Статистика \", ks_scipy_stat, \" p-value \", ks_scipy_p)\n",
        "\n",
        "start_time = time.time()\n",
        "ks_stat, ks_p = kolmogorov_smirnov_test(sample2, sample3)\n",
        "ks_time = time.time() - start_time\n",
        "print(\"Мои результаты: Время \", ks_time, \" Статистика \", ks_stat, \" p-value \", ks_p)\n",
        "\n",
        "print(\"---Колмогорова-Смирнова---\")\n",
        "start_time = time.time()\n",
        "ks_scipy_stat, ks_scipy_p = ks_2samp(sample2, sample4)\n",
        "ks_scipy_time = time.time() - start_time\n",
        "print(\"Результаты SciPy: Время \", ks_scipy_time, \" Статистика \", ks_scipy_stat, \" p-value \", ks_scipy_p)\n",
        "\n",
        "start_time = time.time()\n",
        "ks_stat, ks_p = kolmogorov_smirnov_test(sample2, sample4)\n",
        "ks_time = time.time() - start_time\n",
        "print(\"Мои результаты: Время \", ks_time, \" Статистика \", ks_stat, \" p-value \", ks_p)\n",
        "\n",
        "print(\"---Колмогорова-Смирнова---\")\n",
        "start_time = time.time()\n",
        "ks_scipy_stat, ks_scipy_p = ks_2samp(sample3, sample4)\n",
        "ks_scipy_time = time.time() - start_time\n",
        "print(\"Результаты SciPy: Время \", ks_scipy_time, \" Статистика \", ks_scipy_stat, \" p-value \", ks_scipy_p)\n",
        "\n",
        "start_time = time.time()\n",
        "ks_stat, ks_p = kolmogorov_smirnov_test(sample3, sample4)\n",
        "ks_time = time.time() - start_time\n",
        "print(\"Мои результаты: Время \", ks_time, \" Статистика \", ks_stat, \" p-value \", ks_p)\n"
      ],
      "metadata": {
        "colab": {
          "base_uri": "https://localhost:8080/"
        },
        "id": "Dh4AwgYEULTY",
        "outputId": "7e3a80ec-318b-4011-fa55-8ca32eea2fd3"
      },
      "execution_count": null,
      "outputs": [
        {
          "output_type": "stream",
          "name": "stdout",
          "text": [
            "---Колмогорова-Смирнова---\n",
            "Результаты SciPy: Время  0.0015175342559814453  Статистика  0.05714285714285714  p-value  0.6179086766712222\n",
            "Мои результаты: Время  0.0006899833679199219  Статистика  0.05714285714285716  p-value  0.6171949793981644\n",
            "---Колмогорова-Смирнова---\n",
            "Результаты SciPy: Время  0.0012993812561035156  Статистика  0.08285714285714285  p-value  0.1809122045806726\n",
            "Мои результаты: Время  0.0008060932159423828  Статистика  0.08285714285714285  p-value  0.1807843407352241\n",
            "---Колмогорова-Смирнова---\n",
            "Результаты SciPy: Время  0.0011665821075439453  Статистика  0.14857142857142858  p-value  0.0008673277143634175\n",
            "Мои результаты: Время  0.0005559921264648438  Статистика  0.14857142857142858  p-value  0.0008826629809542174\n",
            "---Колмогорова-Смирнова---\n",
            "Результаты SciPy: Время  0.0011322498321533203  Статистика  0.06  p-value  0.5550396520563093\n",
            "Мои результаты: Время  0.00060272216796875  Статистика  0.06  p-value  0.5543843284001296\n",
            "---Колмогорова-Смирнова---\n",
            "Результаты SciPy: Время  0.0010993480682373047  Статистика  0.16  p-value  0.0002503814766254781\n",
            "Мои результаты: Время  0.0005636215209960938  Статистика  0.16000000000000003  p-value  0.0002568925074682312\n",
            "---Колмогорова-Смирнова---\n",
            "Результаты SciPy: Время  0.001108407974243164  Статистика  0.16857142857142857  p-value  9.273039681804538e-05\n",
            "Мои результаты: Время  0.0005636215209960938  Статистика  0.1685714285714286  p-value  9.586523976244841e-05\n"
          ]
        }
      ]
    }
  ]
}