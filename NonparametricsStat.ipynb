{
  "nbformat": 4,
  "nbformat_minor": 0,
  "metadata": {
    "colab": {
      "provenance": [],
      "authorship_tag": "ABX9TyOQn+C3Jtia5rqVYh8AIHnK",
      "include_colab_link": true
    },
    "kernelspec": {
      "name": "python3",
      "display_name": "Python 3"
    },
    "language_info": {
      "name": "python"
    }
  },
  "cells": [
    {
      "cell_type": "markdown",
      "metadata": {
        "id": "view-in-github",
        "colab_type": "text"
      },
      "source": [
        "<a href=\"https://colab.research.google.com/github/kojurkin/NonparametricsStat/blob/main/NonparametricsStat.ipynb\" target=\"_parent\"><img src=\"https://colab.research.google.com/assets/colab-badge.svg\" alt=\"Open In Colab\"/></a>"
      ]
    },
    {
      "cell_type": "code",
      "source": [
        "import numpy as np\n",
        "from scipy.special import gamma, gammaln\n",
        "from scipy.integrate import quad"
      ],
      "metadata": {
        "id": "ALw_mJJdTk4x"
      },
      "execution_count": null,
      "outputs": []
    },
    {
      "cell_type": "code",
      "execution_count": null,
      "metadata": {
        "id": "B3VhwgXNTXoF"
      },
      "outputs": [],
      "source": [
        "def empirical_cdf(x, sample):\n",
        "    n = len(sample)\n",
        "    return np.sum(sample <= x) / n"
      ]
    },
    {
      "cell_type": "code",
      "source": [
        "def bessel_mod(v, z, k_max=100, tolerance=1e-6):\n",
        "    total_sum = 0.0\n",
        "    z_half = z / 2.0\n",
        "    for k in range(k_max):\n",
        "        log_term = (v + 2 * k) * np.log(abs(z / 2.0)) - gammaln(k + 1) - gammaln(k + v + 1)\n",
        "        term = np.exp(log_term)\n",
        "        total_sum += term\n",
        "        if abs(term) < tolerance:\n",
        "            break\n",
        "    return total_sum"
      ],
      "metadata": {
        "id": "LHgZmw8WTq6P"
      },
      "execution_count": null,
      "outputs": []
    },
    {
      "cell_type": "code",
      "source": [
        "def integrand(y, t, j):\n",
        "  return np.exp((t/(8*(y**2 + 1))) - (((4*j+1)**2 * np.pi**2 * y**2)/(8*t)))"
      ],
      "metadata": {
        "id": "CLNxlWHbTzx-"
      },
      "execution_count": null,
      "outputs": []
    },
    {
      "cell_type": "code",
      "source": [
        "def compute_ranks(sample1, sample2):\n",
        "    if len(sample1) == 0 or len(sample2) == 0:\n",
        "        raise ValueError(\"Выборки должны быть не пустыми.\")\n",
        "    # (элемент, выборка, исходный_индекс)\n",
        "    combined = [(x, 0, i) for i, x in enumerate(sample1)] + [(x, 1, i) for i, x in enumerate(sample2)]\n",
        "    sorted_data = sorted(combined, key=lambda x: x[0])\n",
        "    n = len(combined)\n",
        "    ranks = [0] * n\n",
        "    i = 0\n",
        "    while i < n:\n",
        "        start = i\n",
        "        current_value = sorted_data[i][0]\n",
        "        count = 0\n",
        "        while i < n and sorted_data[i][0] == current_value:\n",
        "            i += 1\n",
        "            count += 1\n",
        "        avg_rank = (start + 1 + start + count) / 2\n",
        "        for j in range(start, i):\n",
        "            ranks[sorted_data[j][2] + (sorted_data[j][1] * len(sample1))] = avg_rank\n",
        "    ranks1 = []\n",
        "    ranks2 = []\n",
        "    for item in sorted(combined, key=lambda x: x[2]):\n",
        "        rank_index = item[2] + (item[1] * len(sample1))\n",
        "        if item[1] == 0:\n",
        "            ranks1.append(ranks[rank_index])\n",
        "        else:\n",
        "            ranks2.append(ranks[rank_index])\n",
        "    return np.array(ranks1), np.array(ranks2)"
      ],
      "metadata": {
        "id": "0qxXXLRPTxnU"
      },
      "execution_count": null,
      "outputs": []
    },
    {
      "cell_type": "code",
      "source": [
        "def a1function(t, j_max=1000, tolerance=1e-16, round_to_5 = True):\n",
        "    if t <= 0:\n",
        "        return 0.0\n",
        "    total_sum = 0.0\n",
        "    sqrt_2t = np.sqrt(2 * t)\n",
        "\n",
        "    for j in range(j_max):\n",
        "        term1 = gamma(j + 0.5) * np.sqrt(4 * j + 1)\n",
        "        term2 = gamma(0.5) * gamma(j + 1)\n",
        "        exponent = np.exp(-(4 * j + 1)**2 / (16 * t))\n",
        "        arg = (4 * j + 1)**2 / (16 * t)\n",
        "        bessel_diff = bessel_mod(-0.25, arg, k_max=173, tolerance=tolerance) - bessel_mod(0.25, arg, k_max=173, tolerance=tolerance)\n",
        "\n",
        "        term = (term1 / term2) * exponent * bessel_diff\n",
        "\n",
        "        total_sum += term\n",
        "\n",
        "        if abs(term) < tolerance:\n",
        "            break\n",
        "    result = total_sum / np.sqrt(2 * t)\n",
        "\n",
        "    if round_to_5:\n",
        "        result = round(result, 5)\n",
        "    return result"
      ],
      "metadata": {
        "id": "g9Kj3qyzTsfl"
      },
      "execution_count": null,
      "outputs": []
    },
    {
      "cell_type": "code",
      "source": [
        "def a2function(t, j_max=1000, tolerance=1e-16, round_to_5 = True):\n",
        "    if t <= 0:\n",
        "        return 0.0\n",
        "    total_sum = 0.0\n",
        "\n",
        "    for j in range(j_max):\n",
        "        term1 = gamma(j + 0.5) * (4 * j + 1)\n",
        "        term2 = gamma(0.5) * gamma(j + 1)\n",
        "        exponent = np.exp(-1 * ((4 * j + 1)**2 * np.pi**2) / (8 * t))\n",
        "        integral_exponent, tolerance_message = quad(integrand, 0, np.inf, args=(t, j))\n",
        "\n",
        "        term = (-1)**j * (term1 / term2) * exponent * integral_exponent\n",
        "\n",
        "        total_sum += term\n",
        "\n",
        "        if abs(term) < tolerance:\n",
        "            break\n",
        "\n",
        "    result = total_sum * (np.sqrt(2 * np.pi) / t)\n",
        "    if round_to_5:\n",
        "        result = round(result, 5)\n",
        "#    print(tolerance_message)\n",
        "    return result"
      ],
      "metadata": {
        "id": "IL9D7MXWTuvE"
      },
      "execution_count": null,
      "outputs": []
    },
    {
      "cell_type": "code",
      "source": [
        "def w_squared_test(sample1, sample2):\n",
        "    if len(sample1) == 0 or len(sample2) == 0:\n",
        "        raise ValueError(\"Выборки должны быть не пустыми.\")\n",
        "    n = len(sample1)\n",
        "    sample2_sorted = np.sort(sample2)\n",
        "    sample2_cdf = np.vectorize(lambda x: empirical_cdf(x, sample2))\n",
        "    U = sample2_cdf(sample1)\n",
        "    U_sorted = np.sort(U)\n",
        "    sum_term = 0\n",
        "    for i in range(n):\n",
        "        diff = U_sorted[i] - (2 * (i + 1) - 1) / (2 * n)\n",
        "        sum_term += diff ** 2\n",
        "    w_squared = ((1 / (12 * n)) + sum_term)\n",
        "    p_value = 1 - a1function(w_squared)\n",
        "    return w_squared, p_value"
      ],
      "metadata": {
        "id": "f-pVWrkNT22L"
      },
      "execution_count": null,
      "outputs": []
    },
    {
      "cell_type": "code",
      "source": [
        "def lehmann_rosenblatt_test(sample1, sample2):\n",
        "    if len(sample1) == 0 or len(sample2) == 0:\n",
        "        raise ValueError(\"Выборки должны быть не пустыми.\")\n",
        "    m, n = len(sample1), len(sample2)\n",
        "    if m > n:\n",
        "        tmp = sample2\n",
        "        sample2 = sample1\n",
        "        sample1 = tmp\n",
        "        m, n = len(sample1), len(sample2)\n",
        "    ranks1, ranks2 = compute_ranks(sample1, sample2)\n",
        "    sum1 = 0\n",
        "    sum2 = 0\n",
        "    ranks1 = sorted(ranks1)\n",
        "    ranks2 = sorted(ranks2)\n",
        "    for i in range(len(ranks1)):\n",
        "      sum1 += (ranks1[i] - (i + 1))**2\n",
        "    for i in range(len(ranks2)):\n",
        "      sum2 += (ranks2[i] - (i + 1))**2\n",
        "    T = (n * sum1 + m * sum2) / (m * n * (m + n)) - ((4 * m * n - 1) / (6 * (m + n)))\n",
        "    p_value = 1 - a1function(T)\n",
        "    return T, p_value"
      ],
      "metadata": {
        "id": "45mrKLHiT4-i"
      },
      "execution_count": null,
      "outputs": []
    },
    {
      "cell_type": "code",
      "source": [
        "def anderson_darling_test(sample1, sample2):\n",
        "    if len(sample1) == 0 or len(sample2) == 0:\n",
        "        raise ValueError(\"Выборки должны быть не пустыми.\")\n",
        "    m, n = len(sample1), len(sample2)\n",
        "    if m > n:\n",
        "      tmp = sample2\n",
        "      sample2 = sample1\n",
        "      sample1 = tmp\n",
        "\n",
        "    combined = np.concatenate([sample1, sample2])\n",
        "    sorted_combined = np.sort(combined)\n",
        "\n",
        "    ranks1, ranks2 = compute_ranks(sample1, sample2)\n",
        "\n",
        "    M = []\n",
        "    for j in range(m + n):\n",
        "        value = sorted_combined[j]\n",
        "        M_j = sum(1 for x in sample1 if x <= value)\n",
        "        M.append(M_j)\n",
        "    total = 0.0\n",
        "    for i in range(1, m + n):\n",
        "        term = ((M[i-1] * (m + n) - m*i) ** 2) / (i * (m + n - i))\n",
        "        total += term\n",
        "\n",
        "    A = total / (m * n)\n",
        "    p_value = 1 - a2function(A)\n",
        "    return A, p_value"
      ],
      "metadata": {
        "id": "PfP92qc_T6YK"
      },
      "execution_count": null,
      "outputs": []
    },
    {
      "cell_type": "code",
      "execution_count": null,
      "metadata": {
        "id": "ninHZpbQ-jxg"
      },
      "outputs": [],
      "source": [
        "def kolmogorov_smirnov_test(data1, data2):\n",
        "    data1 = np.sort(data1)\n",
        "    data2 = np.sort(data2)\n",
        "    n1 = len(data1)\n",
        "    n2 = len(data2)\n",
        "    data_all = np.concatenate([data1, data2])\n",
        "    cdf1 = np.searchsorted(data1, data_all, side='right') / np.float64(n1)\n",
        "    cdf2 = np.searchsorted(data2, data_all, side='right') / np.float64(n2)\n",
        "    d = np.float64(np.max(np.abs(cdf1 - cdf2)))\n",
        "    return d, np.clip(kolmogorov_distribution(d, n1, n2), 0.0, 1.0),"
      ]
    },
    {
      "cell_type": "code",
      "source": [
        "def kolmogorov_distribution(d, n1, n2):\n",
        "    d = float(d)\n",
        "    n1 = int(n1)\n",
        "    n2 = int(n2)\n",
        "\n",
        "    if n1 <= 10 and n2 <= 10:\n",
        "        m, n = n1, n2\n",
        "        k = int(np.ceil(d * n * m))\n",
        "        if k == 0:\n",
        "            return 1.0\n",
        "        dp = np.zeros((n + 1, m + 1, k + 1), dtype=np.float64)\n",
        "        dp[0, 0, 0] = 1.0\n",
        "        for i in range(n + 1):\n",
        "            for j in range(m + 1):\n",
        "                for t in range(k + 1):\n",
        "                    if dp[i, j, t] == 0:\n",
        "                        continue\n",
        "                    diff = abs(i / np.float64(n) - j / np.float64(m))\n",
        "                    if diff * n * m > t:\n",
        "                        continue\n",
        "                    if i < n:\n",
        "                        dp[i + 1, j, t] += dp[i, j, t] / np.float64(n)\n",
        "                    if j < m:\n",
        "                        dp[i, j + 1, t] += dp[i, j, t] / np.float64(m)\n",
        "        p = 0.0\n",
        "        for t in range(k):\n",
        "            p += dp[n, m, t]\n",
        "        return np.clip(1 - p, 0.0, 1.0)\n",
        "    else:\n",
        "        m, n = sorted([float(n1), float(n2)], reverse=True)\n",
        "        en = m * n / (m + n)\n",
        "        z = d * np.sqrt(en)\n",
        "        z = np.asarray(z, dtype=np.float64)\n",
        "        p = np.zeros_like(z)\n",
        "        mask_non_positive = z <= 0\n",
        "        p[mask_non_positive] = 1.0\n",
        "        mask_inf = np.isinf(z)\n",
        "        p[mask_inf] = 0.0\n",
        "        mask_valid = (~mask_non_positive) & (~mask_inf)\n",
        "        z_valid = z[mask_valid]\n",
        "        if z_valid.size > 0:\n",
        "            mask_small = z_valid < 1.18\n",
        "            if np.any(mask_small):\n",
        "                sqrt_2pi = np.sqrt(2 * np.pi)\n",
        "                z_small = z_valid[mask_small]\n",
        "                p_small_sum = np.zeros_like(z_small)\n",
        "                for k in range(1, 1000):\n",
        "                    term = -(2*k - 1)**2 * np.pi**2 / (8 * z_small**2)\n",
        "                    if np.any(term < -708.3964185322641):\n",
        "                        break\n",
        "                    current = np.where(term == -np.inf, 0.0, np.exp(np.clip(term, -708.3964185322641, 709.782712893384)))\n",
        "                    p_small_sum += current\n",
        "                    if np.all(np.abs(current) < 1e-30):\n",
        "                        break\n",
        "                raw_p_small = 1.0 - sqrt_2pi / z_small * p_small_sum\n",
        "                p_small = np.clip(raw_p_small, 0.0, 1.0)\n",
        "                if z.ndim == 0:\n",
        "                    if mask_small:\n",
        "                        p = p_small\n",
        "                else:\n",
        "                    p[mask_valid & mask_small] = p_small\n",
        "            mask_large = ~mask_small\n",
        "            if np.any(mask_large):\n",
        "                z_large = z_valid[mask_large]\n",
        "                p_large_sum = np.zeros_like(z_large)\n",
        "                for k in range(1, 1000):\n",
        "                    term = -2 * k**2 * z_large**2\n",
        "                    if np.all(term < -708.3964185322641):\n",
        "                        break\n",
        "                    sign = 1.0 if k % 2 == 1 else -1.0\n",
        "                    current = sign * np.where(term == -np.inf, 0.0, np.exp(np.clip(term, -708.3964185322641, 709.782712893384)))\n",
        "                    p_large_sum += current\n",
        "                    if np.all(np.abs(current) < 1e-30):\n",
        "                        break\n",
        "                raw_p_large = 2.0 * p_large_sum\n",
        "                p_large = np.clip(raw_p_large, 0.0, 1.0)\n",
        "                if z.ndim == 0:\n",
        "                    if mask_large:\n",
        "                        p = p_large\n",
        "                else:\n",
        "                    p[mask_valid & mask_large] = p_large\n",
        "        return p.item() if z.ndim == 0 else p"
      ],
      "metadata": {
        "id": "pXtY5muIugqd"
      },
      "execution_count": null,
      "outputs": []
    }
  ]
}